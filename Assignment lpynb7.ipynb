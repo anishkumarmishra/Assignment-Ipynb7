{
  "nbformat": 4,
  "nbformat_minor": 0,
  "metadata": {
    "colab": {
      "provenance": []
    },
    "kernelspec": {
      "name": "python3",
      "display_name": "Python 3"
    },
    "language_info": {
      "name": "python"
    }
  },
  "cells": [
    {
      "cell_type": "markdown",
      "source": [
        "###1. What is the name of the feature responsible for generating Regex objects?\n",
        "###**Answer** :- re.compile() is the feature responsible for generation of Regex objects."
      ],
      "metadata": {
        "id": "JZCwND3VKosl"
      }
    },
    {
      "cell_type": "code",
      "source": [
        "import re\n",
        "x = re.compile(\"some_random_pattern\")\n",
        "type(x)\n",
        "print(x)"
      ],
      "metadata": {
        "colab": {
          "base_uri": "https://localhost:8080/"
        },
        "id": "ZYQFx3I2QceS",
        "outputId": "cafd7bbe-14c6-4f7b-9202-d3edcdc25fa2"
      },
      "execution_count": null,
      "outputs": [
        {
          "output_type": "stream",
          "name": "stdout",
          "text": [
            "re.compile('some_random_pattern')\n"
          ]
        }
      ]
    },
    {
      "cell_type": "markdown",
      "source": [
        "####2. Why do raw strings often appear in Regex objects?\n",
        "###**Answer** :- Regular expressions use the backslash character ('\\') to indicate special forms (Metacharacters) or to allow special characters (speical sequences) to be used without invoking their special meaning. This collides with Python’s usage of the same character for the same purpose in string literals. Hence, Raw strings are used (e.g. r\"\\n\") so that backslashes do not have to be escaped."
      ],
      "metadata": {
        "id": "GDrIgcgPQunE"
      }
    },
    {
      "cell_type": "markdown",
      "source": [
        "####3. What is the return value of the search() method?\n",
        "###**Answer**:- The return value of re.search(pattern,string) method is a match object if the pattern is observed in the string else it returns a None"
      ],
      "metadata": {
        "id": "HbAM2FAqSgwQ"
      }
    },
    {
      "cell_type": "code",
      "source": [
        "import re\n",
        "match = re.search('i','Ineuron Full Stack Data Science Program', flags=re.IGNORECASE)\n",
        "print('Output:',match)\n",
        "match = re.search('X','Ineuron Full Stack Data Science Program', flags=re.IGNORECASE)\n",
        "print('Output:',match)"
      ],
      "metadata": {
        "colab": {
          "base_uri": "https://localhost:8080/"
        },
        "id": "R3OD7w1hZkxb",
        "outputId": "41d61d2f-bbc9-452c-d673-f4216f115bc9"
      },
      "execution_count": null,
      "outputs": [
        {
          "output_type": "stream",
          "name": "stdout",
          "text": [
            "Output: <re.Match object; span=(0, 1), match='I'>\n",
            "Output: None\n"
          ]
        }
      ]
    },
    {
      "cell_type": "markdown",
      "source": [
        "####4. From a Match item, how do you get the actual strings that match the pattern?\n",
        "###**Answer**:-For Matched items group() methods returns actual strings that match the pattern"
      ],
      "metadata": {
        "id": "P-fGat68Z-23"
      }
    },
    {
      "cell_type": "code",
      "source": [
        "import re\n",
        "match = re.search('ineuron','Ineuron Full Stack Data Science Program', flags=re.IGNORECASE)\n",
        "print('Output:',match.group())"
      ],
      "metadata": {
        "colab": {
          "base_uri": "https://localhost:8080/"
        },
        "id": "C1wNGGpfcWF9",
        "outputId": "5923eab1-28a7-47b2-bcfc-c6edfade15ab"
      },
      "execution_count": null,
      "outputs": [
        {
          "output_type": "stream",
          "name": "stdout",
          "text": [
            "Output: Ineuron\n"
          ]
        }
      ]
    },
    {
      "cell_type": "markdown",
      "source": [
        "###5. In the regex which created from the r&#39;(\\d\\d\\d)-(\\d\\d\\d-\\d\\d\\d\\d)&#39;, what does group zero cover? Group 2? Group 1?\n",
        "####**Answer** :- In the Regex r'(\\d\\d\\d)-(\\d\\d\\d-\\d\\d\\d\\d)' the zero group covers the entire pattern match where as the first group cover (\\d\\d\\d) and the second group cover (\\d\\d\\d-\\d\\d\\d\\d)"
      ],
      "metadata": {
        "id": "_LYlazc6cizN"
      }
    },
    {
      "cell_type": "code",
      "source": [
        "# Example Program\n",
        "import re\n",
        "phoneNumRegex = re.compile(r'(\\d\\d\\d)-(\\d\\d\\d-\\d\\d\\d\\d)')\n",
        "mo = phoneNumRegex.search('My number is 415-555-4242.')\n",
        "print(mo.groups()) # Prints all groups in a tuple format\n",
        "print(mo.group()) # Always returns the fully matched string \n",
        "print(mo.group(1)) # Returns the first group\n",
        "print(mo.group(2)) # Returns the second group"
      ],
      "metadata": {
        "colab": {
          "base_uri": "https://localhost:8080/"
        },
        "id": "10YPJahvc80F",
        "outputId": "1fc0430d-4ea1-4310-a604-ad5852c1bf54"
      },
      "execution_count": null,
      "outputs": [
        {
          "output_type": "stream",
          "name": "stdout",
          "text": [
            "('415', '555-4242')\n",
            "415-555-4242\n",
            "415\n",
            "555-4242\n"
          ]
        }
      ]
    },
    {
      "cell_type": "markdown",
      "source": [
        "###6. In standard expression syntax, parentheses and intervals have distinct meanings. How can you tell a regex that you want it to fit real parentheses and periods?\n",
        "####**Answer** :- The \\. \\( and \\) escape characters in the raw string passed to re.compile() will match actual parenthesis characters."
      ],
      "metadata": {
        "id": "8CMrhxb2dY40"
      }
    },
    {
      "cell_type": "code",
      "source": [
        "# Example Program\n",
        "import re\n",
        "phoneNumRegex = re.compile(r'(\\(\\d\\d\\d\\)) (\\d\\d\\d-\\d\\d\\d\\d)')\n",
        "mo = phoneNumRegex.search('My phone number is (415) 555-4242.')\n",
        "print(mo.group())"
      ],
      "metadata": {
        "colab": {
          "base_uri": "https://localhost:8080/"
        },
        "id": "lLZ4CPkbdmZA",
        "outputId": "3bd575b7-ee77-487b-997f-8f5c47dbf6c3"
      },
      "execution_count": null,
      "outputs": [
        {
          "output_type": "stream",
          "name": "stdout",
          "text": [
            "(415) 555-4242\n"
          ]
        }
      ]
    },
    {
      "cell_type": "markdown",
      "source": [
        "###7. The findall() method returns a string list or a list of string tuples. What causes it to return one of the two options?\n",
        "####Answer :- If the regex pattern has no groups, a list of strings matched is returned. if the regex pattern has groups, a list of tuple of strings is returned."
      ],
      "metadata": {
        "id": "aIsW_cZ2dwet"
      }
    },
    {
      "cell_type": "code",
      "source": [
        "# Example Program\n",
        "import re\n",
        "phoneNumRegex = re.compile(r'(\\(\\d\\d\\d\\)) (\\d\\d\\d-\\d\\d\\d\\d)')\n",
        "mo = phoneNumRegex.findall('My phone number is (415) 555-4242.')\n",
        "print(mo)\n",
        "\n",
        "# Example Program\n",
        "import re\n",
        "phoneNumRegex = re.compile(r'\\d{3}-\\d{3}-\\d{4}')\n",
        "mo = phoneNumRegex.findall('My number is 415-555-4242.')\n",
        "print(mo) # Prints all groups in a tuple format"
      ],
      "metadata": {
        "colab": {
          "base_uri": "https://localhost:8080/"
        },
        "id": "9ghED5rOd9ND",
        "outputId": "177f43f0-556d-4c2c-e690-b72a0a287a0a"
      },
      "execution_count": null,
      "outputs": [
        {
          "output_type": "stream",
          "name": "stdout",
          "text": [
            "[('(415)', '555-4242')]\n",
            "['415-555-4242']\n"
          ]
        }
      ]
    },
    {
      "cell_type": "markdown",
      "source": [
        "###8. In standard expressions, what does the | character mean?\n",
        "####**Answer**:- In Standard Expressions | means OR operator."
      ],
      "metadata": {
        "id": "tFUQ7_pWfGNt"
      }
    },
    {
      "cell_type": "markdown",
      "source": [
        "###9. In regular expressions, what does the ? character stand for?\n",
        "####Answer:- In regular Expressions, ? characters represents zero or one match of the preceeding group."
      ],
      "metadata": {
        "id": "aAo8igVbfpOA"
      }
    },
    {
      "cell_type": "code",
      "source": [
        "# Example Program\n",
        "import re\n",
        "match_1 = re.search(\"Bat(wo)?man\",\"Batman returns\")\n",
        "print(match_1)\n",
        "match_2 = re.search(\"Bat(wo)?man\",\"Batwoman returns\")\n",
        "print(match_2)"
      ],
      "metadata": {
        "colab": {
          "base_uri": "https://localhost:8080/"
        },
        "id": "o6IyD5RVf9sO",
        "outputId": "548e459f-fd65-4b7c-b4f1-cbb3c80a9c93"
      },
      "execution_count": null,
      "outputs": [
        {
          "output_type": "stream",
          "name": "stdout",
          "text": [
            "<re.Match object; span=(0, 6), match='Batman'>\n",
            "<re.Match object; span=(0, 8), match='Batwoman'>\n"
          ]
        }
      ]
    },
    {
      "cell_type": "markdown",
      "source": [
        "###10.In regular expressions, what is the difference between the + and * characters?\n",
        "####**Answer**:-In Regular Expressions, * Represents Zero ore more occurances of the preceeding group, whereas + represents one or more occurances of the preceeding group."
      ],
      "metadata": {
        "id": "Q1f64N4xgHir"
      }
    },
    {
      "cell_type": "code",
      "source": [
        "import re\n",
        "match_1 = re.search(\"Bat(wo)*man\",\"Batman returns\")\n",
        "print(match_1)\n",
        "match_2 = re.search(\"Bat(wo)+man\",\"Batman returns\")\n",
        "print(match_2)"
      ],
      "metadata": {
        "colab": {
          "base_uri": "https://localhost:8080/"
        },
        "id": "TQd0YViQgUsc",
        "outputId": "dd53ce00-e183-4f02-8577-b39f4dddb134"
      },
      "execution_count": null,
      "outputs": [
        {
          "output_type": "stream",
          "name": "stdout",
          "text": [
            "<re.Match object; span=(0, 6), match='Batman'>\n",
            "None\n"
          ]
        }
      ]
    },
    {
      "cell_type": "markdown",
      "source": [
        "###11. What is the difference between {4} and {4,5} in regular expression?\n",
        "####**Answer** :- {4} means that its preceeding group should repeat 4 times. where as {4,5} means that its preceeding group should repeat mininum 4 times and maximum 5 times inclusively"
      ],
      "metadata": {
        "id": "lMNr4pV6gkwz"
      }
    },
    {
      "cell_type": "code",
      "source": [
        "import re\n",
        "haRegex = re.compile(r'(Ha){3}')\n",
        "mo1 = haRegex.search('HaHaHa')\n",
        "mo2 = haRegex.search('Ha')\n",
        "print(mo1.group())\n",
        "print(mo2)"
      ],
      "metadata": {
        "colab": {
          "base_uri": "https://localhost:8080/"
        },
        "id": "QsyU8yaKgw55",
        "outputId": "2d7653e7-d3ce-4ad6-cfd9-075ee97df62c"
      },
      "execution_count": null,
      "outputs": [
        {
          "output_type": "stream",
          "name": "stdout",
          "text": [
            "HaHaHa\n",
            "None\n"
          ]
        }
      ]
    },
    {
      "cell_type": "markdown",
      "source": [
        "###12. What do you mean by the \\d, \\w, and \\s shorthand character classes signify in regular expressions?\n",
        "####**Answer** :- \\d, \\w and \\s are special sequences in regular expresssions in python:\n",
        "\n",
        "1.\\w – Matches a word character equivalent to [a-zA-Z0-9_] \n",
        "\n",
        "2.\\d – Matches digit character equivalent to [0-9] \n",
        "\n",
        "3.\\s – Matches whitespace character (space, tab, newline, etc.)"
      ],
      "metadata": {
        "id": "wqrU4ZYyhCsm"
      }
    },
    {
      "cell_type": "markdown",
      "source": [
        "###13. What do means by \\D, \\W, and \\S shorthand character classes signify in regular expressions?\n",
        "####**Answer**:-  \\D, \\W and \\S are special sequences in regular expresssions in python:\n",
        "\n",
        "1.\\W – Matches any non-alphanumeric character equivalent to [^a-zA-Z0-9_]\n",
        "\n",
        "2.\\D – Matches any non-digit character, this is equivalent to the set class [^0-9]\n",
        "\n",
        "3.\\S – Matches any non-whitespace character"
      ],
      "metadata": {
        "id": "hdp0ggOLhpiG"
      }
    },
    {
      "cell_type": "markdown",
      "source": [
        "###14. What is the difference between .*? and .*?\n",
        "####**Answer**:- .* is a Greedy mode, which returns the longest string that meets the condition. Whereas .*? is a non greedy mode which returns the shortest string that meets the condition."
      ],
      "metadata": {
        "id": "OV6BBGt8iKiE"
      }
    },
    {
      "cell_type": "markdown",
      "source": [
        "###15. What is the syntax for matching both numbers and lowercase letters with a character class?\n",
        "####**Answer**:- The Synatax is Either [a-z0-9] or [0-9a-z]"
      ],
      "metadata": {
        "id": "HJzQ48SHiZ-I"
      }
    },
    {
      "cell_type": "markdown",
      "source": [
        "###16. What is the procedure for making a normal expression in regax case insensitive?\n",
        "####**Answer** :- We can pass re.IGNORECASE as a flag to make a noraml expression case insensitive"
      ],
      "metadata": {
        "id": "GX8YWkBKiy1C"
      }
    },
    {
      "cell_type": "markdown",
      "source": [
        "###17. What does the . character normally match? What does it match if re.DOTALL is passed as 2nd argument in re.compile()?\n",
        "####**Answer**:- Dot . character matches everything in input except newline character .. By passing re.DOTALL as a flag to re.compile(), you can make the dot character match all characters, including the newline character."
      ],
      "metadata": {
        "id": "7f5L2RfujB-D"
      }
    },
    {
      "cell_type": "markdown",
      "source": [
        "###18. If numReg = re.compile(r'\\d+'), what will numRegex.sub('X', '11 drummers, 10 pipers, five rings, 4 hen') return?\n",
        "####Answer:-The Ouput will be 'X drummers, X pipers, five rings, X hen'"
      ],
      "metadata": {
        "id": "QmpJ4BhkjPS1"
      }
    },
    {
      "cell_type": "code",
      "source": [
        "import re\n",
        "numReg = re.compile(r'\\d+')\n",
        "numReg.sub('X', '11 drummers, 10 pipers, five rings, 4 hen')"
      ],
      "metadata": {
        "colab": {
          "base_uri": "https://localhost:8080/",
          "height": 36
        },
        "id": "fqsPPZlTjkO_",
        "outputId": "2561e9c3-d9c3-4aae-80d4-9671a9598bac"
      },
      "execution_count": null,
      "outputs": [
        {
          "output_type": "execute_result",
          "data": {
            "text/plain": [
              "'X drummers, X pipers, five rings, X hen'"
            ],
            "application/vnd.google.colaboratory.intrinsic+json": {
              "type": "string"
            }
          },
          "metadata": {},
          "execution_count": 10
        }
      ]
    },
    {
      "cell_type": "markdown",
      "source": [
        "###19. What does passing re.VERBOSE as the 2nd argument to re.compile() allow to do?\n",
        "####Answer :- re.VERBOSE will allow to add whitespace and comments to string passed to re.compile()."
      ],
      "metadata": {
        "id": "aQBPtLshkGo0"
      }
    },
    {
      "cell_type": "code",
      "source": [
        "# Without Using VERBOSE\n",
        "regex_email = re.compile(r'^([a-z0-9_\\.-]+)@([0-9a-z\\.-]+)\\.([a-z\\.]{2, 6})$', re.IGNORECASE)\n",
        " \n",
        "# Using VERBOSE\n",
        "regex_email = re.compile(r\"\"\"\n",
        "                            ^([a-z0-9_\\.-]+)              # local Part like username\n",
        "                            @                             # single @ sign \n",
        "                            ([0-9a-z\\.-]+)                # Domain name like google\n",
        "                            \\.                            # single Dot .\n",
        "                            ([a-z]{2,6})$                 # Top level Domain  like com/in/org\n",
        "                         \"\"\",re.VERBOSE | re.IGNORECASE)"
      ],
      "metadata": {
        "id": "KUjClshvkVVw"
      },
      "execution_count": null,
      "outputs": []
    },
    {
      "cell_type": "markdown",
      "source": [
        "###20. How would you write a regex that match a number with comma for every three digits? It must match the given following:\n",
        "####**Answer** :- '42','1,234', '6,368,745'but not the following: '12,34,567' (which has only two digits between the commas) '1234' (which lacks commas)"
      ],
      "metadata": {
        "id": "RvYZJoCnliz1"
      }
    },
    {
      "cell_type": "code",
      "source": [
        "import re\n",
        "pattern = r'^\\d{1,3}(,\\d{3})*$'\n",
        "pagex = re.compile(pattern)\n",
        "for ele in ['42','1,234', '6,368,745','12,34,567','1234']:\n",
        "    print('Output:',ele, '->', pagex.search(ele))"
      ],
      "metadata": {
        "colab": {
          "base_uri": "https://localhost:8080/"
        },
        "id": "dIH71Kftlw1W",
        "outputId": "b208c486-dd78-4929-eb48-04757c6adcde"
      },
      "execution_count": null,
      "outputs": [
        {
          "output_type": "stream",
          "name": "stdout",
          "text": [
            "Output: 42 -> <re.Match object; span=(0, 2), match='42'>\n",
            "Output: 1,234 -> <re.Match object; span=(0, 5), match='1,234'>\n",
            "Output: 6,368,745 -> <re.Match object; span=(0, 9), match='6,368,745'>\n",
            "Output: 12,34,567 -> None\n",
            "Output: 1234 -> None\n"
          ]
        }
      ]
    },
    {
      "cell_type": "markdown",
      "source": [
        "###21. How would you write a regex that matches the full name of someone whose last name is Watanabe? You can assume that the first name that comes before it will always be one word that begins with a capital letter. The regex must match the following:\n",
        "'Alice eats apples.'\n",
        "'Haruto Watanabe'\n",
        "'Alice Watanabe'\n",
        "'RoboCop Watanabe'\n",
        "\n",
        "but not the following:\n",
        "\n",
        "'haruto Watanabe' (where the first name is not capitalized)\n",
        "\n",
        "'Mr. Watanabe' (where the preceding word has a nonletter character\n",
        "\n",
        "'Watanabe' (which has no first name)\n",
        "\n",
        "'Haruto watanabe' (where Watanabe is not capitalized)\n",
        "####**Answer** :pattern = r'[A-Z]{1}[a-z]*\\sWatanabe'"
      ],
      "metadata": {
        "id": "SDjmeec3l7HJ"
      }
    },
    {
      "cell_type": "code",
      "source": [
        "import re\n",
        "pattern = r'[A-Z]{1}[a-z]*\\sWatanabe'\n",
        "namex = re.compile(pattern)\n",
        "for name in ['Haruto Watanabe','Alice Watanabe','RoboCop Watanabe','haruto Watanabe','Mr. Watanabe','Watanabe','Haruto watanabe']:\n",
        "    print('Output: ',name,'->',namex.search(name))"
      ],
      "metadata": {
        "colab": {
          "base_uri": "https://localhost:8080/"
        },
        "id": "KWpM7KysqYbt",
        "outputId": "91a9f341-070b-4c2d-d594-1e6f8cf9d463"
      },
      "execution_count": 13,
      "outputs": [
        {
          "output_type": "stream",
          "name": "stdout",
          "text": [
            "Output:  Haruto Watanabe -> <re.Match object; span=(0, 15), match='Haruto Watanabe'>\n",
            "Output:  Alice Watanabe -> <re.Match object; span=(0, 14), match='Alice Watanabe'>\n",
            "Output:  RoboCop Watanabe -> <re.Match object; span=(4, 16), match='Cop Watanabe'>\n",
            "Output:  haruto Watanabe -> None\n",
            "Output:  Mr. Watanabe -> None\n",
            "Output:  Watanabe -> None\n",
            "Output:  Haruto watanabe -> None\n"
          ]
        }
      ]
    },
    {
      "cell_type": "markdown",
      "source": [
        "###22. How would you write a regex that matches a sentence where the first word is either Alice, Bob,or Carol; the second word is either eats, pets, or throws; the third word is apples, cats, or baseballs; and the sentence ends with a period? This regex should be case-insensitive. It must match the following:\n",
        "'Alice eats apples.'\n",
        "\n",
        "'Bob pets cats.'\n",
        "\n",
        "'Carol throws baseballs.'\n",
        "\n",
        "'Alice throws Apples.'\n",
        "\n",
        "'BOB EATS CATS.'\n",
        "\n",
        "but not the following:\n",
        "\n",
        "'RoboCop eats apples.'\n",
        "\n",
        "'ALICE THROWS FOOTBALLS.'\n",
        "\n",
        "'Carol eats 7 cats.'\n",
        "####**Answer** :- pattern = r'(Alice|Bob|Carol)\\s(eats|pets|throws)\\s(apples|cats|baseballs)\\.'"
      ],
      "metadata": {
        "id": "UqeNI3SJqeV4"
      }
    },
    {
      "cell_type": "code",
      "source": [
        "import re\n",
        "pattern = r'(Alice|Bob|Carol)\\s(eats|pets|throws)\\s(apples|cats|baseballs)\\.'\n",
        "casex = re.compile(pattern,re.IGNORECASE)\n",
        "for ele in ['Alice eats apples.','Bob pets cats.','Carol throws baseballs.','Alice throws Apples.','BOB EATS CATS.','RoboCop eats apples.'\n",
        ",'ALICE THROWS FOOTBALLS.','Carol eats 7 cats.']:\n",
        "    print('Output: ',ele,'->',casex.search(ele))"
      ],
      "metadata": {
        "colab": {
          "base_uri": "https://localhost:8080/"
        },
        "id": "PZn5Ihy2rGrH",
        "outputId": "2c0af22e-db61-443f-a95d-d8d42ff23125"
      },
      "execution_count": 14,
      "outputs": [
        {
          "output_type": "stream",
          "name": "stdout",
          "text": [
            "Output:  Alice eats apples. -> <re.Match object; span=(0, 18), match='Alice eats apples.'>\n",
            "Output:  Bob pets cats. -> <re.Match object; span=(0, 14), match='Bob pets cats.'>\n",
            "Output:  Carol throws baseballs. -> <re.Match object; span=(0, 23), match='Carol throws baseballs.'>\n",
            "Output:  Alice throws Apples. -> <re.Match object; span=(0, 20), match='Alice throws Apples.'>\n",
            "Output:  BOB EATS CATS. -> <re.Match object; span=(0, 14), match='BOB EATS CATS.'>\n",
            "Output:  RoboCop eats apples. -> None\n",
            "Output:  ALICE THROWS FOOTBALLS. -> None\n",
            "Output:  Carol eats 7 cats. -> None\n"
          ]
        }
      ]
    }
  ]
}